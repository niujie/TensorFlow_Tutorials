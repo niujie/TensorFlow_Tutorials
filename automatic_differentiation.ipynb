{
 "cells": [
  {
   "cell_type": "markdown",
   "id": "a5f79d28",
   "metadata": {},
   "source": [
    "## Gradient tapes"
   ]
  },
  {
   "cell_type": "code",
   "execution_count": 1,
   "id": "84c9151d",
   "metadata": {},
   "outputs": [
    {
     "name": "stdout",
     "output_type": "stream",
     "text": [
      "INFO:tensorflow:Enabling eager execution\n",
      "INFO:tensorflow:Enabling v2 tensorshape\n",
      "INFO:tensorflow:Enabling resource variables\n",
      "INFO:tensorflow:Enabling tensor equality\n",
      "INFO:tensorflow:Enabling control flow v2\n",
      "2.6.0-dev20210412\n"
     ]
    }
   ],
   "source": [
    "import tensorflow as tf\n",
    "print(tf.__version__)"
   ]
  },
  {
   "cell_type": "code",
   "execution_count": 3,
   "id": "6919e458",
   "metadata": {},
   "outputs": [
    {
     "name": "stdout",
     "output_type": "stream",
     "text": [
      "x: tf.Tensor(\n",
      "[[1. 1.]\n",
      " [1. 1.]], shape=(2, 2), dtype=float32)\n",
      "\n",
      "y: tf.Tensor(4.0, shape=(), dtype=float32)\n",
      "\n",
      "z: tf.Tensor(16.0, shape=(), dtype=float32)\n",
      "\n",
      "dz_dx: tf.Tensor(\n",
      "[[8. 8.]\n",
      " [8. 8.]], shape=(2, 2), dtype=float32)\n"
     ]
    }
   ],
   "source": [
    "x = tf.ones((2, 2))\n",
    "\n",
    "print('x:', x)\n",
    "\n",
    "with tf.GradientTape() as t:\n",
    "    \n",
    "    t.watch(x)\n",
    "    \n",
    "    y = tf.reduce_sum(x)\n",
    "    print('\\ny:', y)\n",
    "    \n",
    "    z = tf.multiply(y, y)\n",
    "    print('\\nz:', z)\n",
    "\n",
    "# Derivative of z with respect to the original input tensor x\n",
    "dz_dx = t.gradient(z, x)\n",
    "\n",
    "# Since the input tensor shape is (2, 2), we expect the gradient \n",
    "# to have the same shape (4 partial derivative components)\n",
    "print('\\ndz_dx:', dz_dx)\n",
    "\n",
    "for i in  [0, 1]:\n",
    "    for j in [0, 1]:\n",
    "        assert dz_dx[i, j].numpy() == 8.0"
   ]
  },
  {
   "cell_type": "markdown",
   "id": "4f93233f",
   "metadata": {},
   "source": [
    "## dz_dx = dz/dy * dy/dx (Chain Rule)\n",
    "You can also request gradients of the output with respect to intermediate values during a \"recorded\" `tf.GradientTape` context."
   ]
  },
  {
   "cell_type": "code",
   "execution_count": 5,
   "id": "660476ec",
   "metadata": {},
   "outputs": [
    {
     "name": "stdout",
     "output_type": "stream",
     "text": [
      "x: tf.Tensor(\n",
      "[[1. 1.]\n",
      " [1. 1.]], shape=(2, 2), dtype=float32)\n",
      "\n",
      "y: tf.Tensor(4.0, shape=(), dtype=float32)\n",
      "\n",
      "z: tf.Tensor(16.0, shape=(), dtype=float32)\n",
      "\n",
      "dz_dy: tf.Tensor(8.0, shape=(), dtype=float32)\n"
     ]
    }
   ],
   "source": [
    "x = tf.ones((2, 2))\n",
    "\n",
    "print('x:', x)\n",
    "\n",
    "with tf.GradientTape() as t:\n",
    "    \n",
    "    t.watch(x)\n",
    "    \n",
    "    y = tf.reduce_sum(x)\n",
    "    \n",
    "    print('\\ny:', y)\n",
    "    \n",
    "    z = tf.multiply(y, y)\n",
    "    \n",
    "    print('\\nz:', z)\n",
    "    \n",
    "# Use the tape to compute the derivative of z with respect to the\n",
    "# intermediate value y.\n",
    "dz_dy = t.gradient(z, y)\n",
    "# dy_dx = t.gradient(y, x)  # can't do this without persisitent=True\n",
    "\n",
    "print('\\ndz_dy:', dz_dy)\n",
    "# print('\\ndy_dx:', dy_dx)\n",
    "\n",
    "assert dz_dy.numpy() == 8.0"
   ]
  },
  {
   "cell_type": "markdown",
   "id": "eb764253",
   "metadata": {},
   "source": [
    "By default, the resources held by a `GradientTape` are released as soon as `GradientTape.gradient()` method is called. To compute multiple gradients over the same computation, create a `persistent` gradient tape. This allows multiple calls to the `gradient()` method as resources are released when the tape object is garbage collected."
   ]
  },
  {
   "cell_type": "code",
   "execution_count": 6,
   "id": "5d9c73f4",
   "metadata": {},
   "outputs": [
    {
     "name": "stdout",
     "output_type": "stream",
     "text": [
      "x: tf.Tensor(3.0, shape=(), dtype=float32)\n",
      "\n",
      "y: tf.Tensor(9.0, shape=(), dtype=float32)\n",
      "\n",
      "z: tf.Tensor(81.0, shape=(), dtype=float32)\n",
      "\n",
      "dz_dx: tf.Tensor(108.0, shape=(), dtype=float32)\n",
      "\n",
      "dz_dy: tf.Tensor(18.0, shape=(), dtype=float32)\n",
      "\n",
      "dy_dx tf.Tensor(6.0, shape=(), dtype=float32)\n"
     ]
    }
   ],
   "source": [
    "x = tf.constant(3.)\n",
    "\n",
    "print('x:', x)\n",
    "\n",
    "with tf.GradientTape(persistent=True) as t:\n",
    "    \n",
    "    t.watch(x)\n",
    "    \n",
    "    y = x * x\n",
    "    \n",
    "    print('\\ny:', y)\n",
    "    \n",
    "    z = tf.multiply(y, y)\n",
    "    \n",
    "    print('\\nz:', z)\n",
    "    \n",
    "dz_dx = t.gradient(z, x)  # 108.0 (4*x^3 at x=3)\n",
    "print('\\ndz_dx:', dz_dx)\n",
    "\n",
    "dz_dy = t.gradient(z, y)  # 18.0\n",
    "print('\\ndz_dy:', dz_dy)\n",
    "\n",
    "dy_dx = t.gradient(y, x)\n",
    "print('\\ndy_dx', dy_dx)  # 6.0"
   ]
  },
  {
   "cell_type": "markdown",
   "id": "a8320c69",
   "metadata": {},
   "source": [
    "## Recording control flow"
   ]
  },
  {
   "cell_type": "code",
   "execution_count": 7,
   "id": "5bee7110",
   "metadata": {},
   "outputs": [],
   "source": [
    "def f(x, y):\n",
    "    \n",
    "    output = 1.0\n",
    "    \n",
    "    for i in range(y):\n",
    "        if i > 1 and i < 5:\n",
    "            output = tf.multiply(output, x)\n",
    "    \n",
    "    return output\n",
    "\n",
    "def grad(x, y):\n",
    "    \n",
    "    with tf.GradientTape() as t:\n",
    "        t.watch(x)\n",
    "        out = f(x, y)\n",
    "    return t.gradient(out, x)\n",
    "\n",
    "x = tf.convert_to_tensor(2.0)\n",
    "\n",
    "assert grad(x, 6).numpy() == 12.0\n",
    "assert grad(x, 5).numpy() == 12.0\n",
    "assert grad(x, 4).numpy() == 4.0"
   ]
  },
  {
   "cell_type": "markdown",
   "id": "53eb73f9",
   "metadata": {},
   "source": [
    "## Higher-order gradients\n",
    "Operations inside the `GradientTape` context manager are recorded for automatic differentiation. If gradients are computed in that context, then the gradient computation is recorded as well. As a result, the exact same API works for higher-order gradients as well."
   ]
  },
  {
   "cell_type": "code",
   "execution_count": 8,
   "id": "c7f00c5e",
   "metadata": {},
   "outputs": [],
   "source": [
    "x = tf.Variable(1.)\n",
    "\n",
    "with tf.GradientTape() as t:\n",
    "    with tf.GradientTape() as t2:\n",
    "        y = x * x * x\n",
    "    dy_dx = t2.gradient(y, x)\n",
    "d2y_dx2 = t.gradient(dy_dx, x)\n",
    "\n",
    "assert dy_dx.numpy() == 3.0\n",
    "assert d2y_dx2.numpy() == 6.0"
   ]
  },
  {
   "cell_type": "markdown",
   "id": "5111aaaf",
   "metadata": {},
   "source": [
    "## Jacobians\n",
    "\n",
    "The `Jacobian matrix` represents the gradients of a vector valued function. Each row contains the gradient of one of the vector's elements.\n",
    "\n",
    "### Scalar source"
   ]
  },
  {
   "cell_type": "code",
   "execution_count": 10,
   "id": "b3e40542",
   "metadata": {},
   "outputs": [
    {
     "name": "stdout",
     "output_type": "stream",
     "text": [
      "(201,)\n",
      "(201,)\n"
     ]
    }
   ],
   "source": [
    "x = tf.linspace(-10., 10., 200+1)\n",
    "delta = tf.Variable(0.0)\n",
    "\n",
    "with tf.GradientTape() as tape:\n",
    "    y = tf.nn.sigmoid(x+delta)\n",
    "\n",
    "dy_dx = tape.jacobian(y, delta)\n",
    "\n",
    "print(y.shape)\n",
    "print(dy_dx.shape)"
   ]
  },
  {
   "cell_type": "code",
   "execution_count": 12,
   "id": "6017ba6c",
   "metadata": {},
   "outputs": [
    {
     "data": {
      "image/png": "[encoded data removed]",
      "text/plain": [
       "<Figure size 432x288 with 1 Axes>"
      ]
     },
     "metadata": {
      "needs_background": "light"
     },
     "output_type": "display_data"
    }
   ],
   "source": [
    "import matplotlib.pyplot as plt\n",
    "\n",
    "plt.plot(x.numpy(), y, label='y')\n",
    "plt.plot(x.numpy(), dy_dx, label='dy/dx')\n",
    "plt.legend()\n",
    "_ = plt.xlabel('x')"
   ]
  },
  {
   "cell_type": "markdown",
   "id": "c8c594ac",
   "metadata": {},
   "source": [
    "### Tensor source"
   ]
  },
  {
   "cell_type": "code",
   "execution_count": 13,
   "id": "17f355dc",
   "metadata": {},
   "outputs": [
    {
     "data": {
      "text/plain": [
       "TensorShape([7, 10])"
      ]
     },
     "execution_count": 13,
     "metadata": {},
     "output_type": "execute_result"
    }
   ],
   "source": [
    "x = tf.random.normal([7, 5])\n",
    "layer = tf.keras.layers.Dense(10, activation=tf.nn.relu)\n",
    "\n",
    "with tf.GradientTape(persistent=True) as tape:\n",
    "    y = layer(x)\n",
    "\n",
    "y.shape"
   ]
  },
  {
   "cell_type": "code",
   "execution_count": 14,
   "id": "1f6ef70a",
   "metadata": {},
   "outputs": [
    {
     "data": {
      "text/plain": [
       "TensorShape([5, 10])"
      ]
     },
     "execution_count": 14,
     "metadata": {},
     "output_type": "execute_result"
    }
   ],
   "source": [
    "layer.kernel.shape"
   ]
  },
  {
   "cell_type": "code",
   "execution_count": 15,
   "id": "363626e0",
   "metadata": {},
   "outputs": [
    {
     "data": {
      "text/plain": [
       "TensorShape([7, 10, 5, 10])"
      ]
     },
     "execution_count": 15,
     "metadata": {},
     "output_type": "execute_result"
    }
   ],
   "source": [
    "j = tape.jacobian(y, layer.kernel)\n",
    "j.shape"
   ]
  },
  {
   "cell_type": "code",
   "execution_count": 16,
   "id": "1567ab82",
   "metadata": {},
   "outputs": [
    {
     "name": "stdout",
     "output_type": "stream",
     "text": [
      "g.shape: (5, 10)\n",
      "delta: 0.0\n"
     ]
    }
   ],
   "source": [
    "g = tape.gradient(y, layer.kernel)\n",
    "print('g.shape:', g.shape)\n",
    "\n",
    "j_sum = tf.reduce_sum(j, axis=[0, 1])\n",
    "delta = tf.reduce_max(abs(g - j_sum)).numpy()\n",
    "assert delta < 1e-3\n",
    "print('delta:', delta)"
   ]
  },
  {
   "cell_type": "code",
   "execution_count": null,
   "id": "d7999f80",
   "metadata": {},
   "outputs": [],
   "source": []
  }
 ],
 "metadata": {
  "kernelspec": {
   "display_name": "Tensorflow (env)",
   "language": "python",
   "name": "tensorflow-env"
  },
  "language_info": {
   "codemirror_mode": {
    "name": "ipython",
    "version": 3
   },
   "file_extension": ".py",
   "mimetype": "text/x-python",
   "name": "python",
   "nbconvert_exporter": "python",
   "pygments_lexer": "ipython3",
   "version": "3.7.9"
  }
 },
 "nbformat": 4,
 "nbformat_minor": 5
}
